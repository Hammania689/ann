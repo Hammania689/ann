{
 "cells": [
  {
   "cell_type": "code",
   "execution_count": 1,
   "metadata": {},
   "outputs": [
    {
     "name": "stderr",
     "output_type": "stream",
     "text": [
      "Using TensorFlow backend.\n"
     ]
    }
   ],
   "source": [
    "'''Trains a simple deep NN on the MNIST dataset.\n",
    "Gets to 98.40% test accuracy after 20 epochs\n",
    "(there is *a lot* of margin for parameter tuning).\n",
    "2 seconds per epoch on a K520 GPU.\n",
    "'''\n",
    "\n",
    "from __future__ import print_function\n",
    "\n",
    "import keras\n",
    "from keras.datasets import mnist\n",
    "from keras.models import Sequential\n",
    "from keras.layers import Dense, Dropout\n",
    "from keras.optimizers import RMSprop\n",
    "\n",
    "batch_size = 32 #32, 64, or 128 \n",
    "num_classes = 10\n",
    "epochs = 8 #larger， higher accurate. iteration, but there is a threshold of overfitting, resulting in high training accuracy and low test accuracy"
   ]
  },
  {
   "cell_type": "code",
   "execution_count": 2,
   "metadata": {},
   "outputs": [
    {
     "name": "stdout",
     "output_type": "stream",
     "text": [
      "60000 train samples\n",
      "10000 test samples\n"
     ]
    }
   ],
   "source": [
    "# the data, split between train and test sets\n",
    "(x_train, y_train), (x_test, y_test) = mnist.load_data()\n",
    "\n",
    "x_train = x_train.reshape(60000, 784)\n",
    "x_test = x_test.reshape(10000, 784)\n",
    "x_train = x_train.astype('float32')\n",
    "x_test = x_test.astype('float32')\n",
    "x_train /= 255\n",
    "x_test /= 255\n",
    "print(x_train.shape[0], 'train samples')\n",
    "print(x_test.shape[0], 'test samples')\n",
    "\n",
    "# convert class vectors to binary representation\n",
    "y_train = keras.utils.to_categorical(y_train, num_classes)\n",
    "y_test = keras.utils.to_categorical(y_test, num_classes)"
   ]
  },
  {
   "cell_type": "code",
   "execution_count": 3,
   "metadata": {},
   "outputs": [
    {
     "name": "stdout",
     "output_type": "stream",
     "text": [
      "_________________________________________________________________\n",
      "Layer (type)                 Output Shape              Param #   \n",
      "=================================================================\n",
      "dense_1 (Dense)              (None, 512)               401920    \n",
      "_________________________________________________________________\n",
      "dropout_1 (Dropout)          (None, 512)               0         \n",
      "_________________________________________________________________\n",
      "dense_2 (Dense)              (None, 512)               262656    \n",
      "_________________________________________________________________\n",
      "dropout_2 (Dropout)          (None, 512)               0         \n",
      "_________________________________________________________________\n",
      "dense_3 (Dense)              (None, 10)                5130      \n",
      "=================================================================\n",
      "Total params: 669,706\n",
      "Trainable params: 669,706\n",
      "Non-trainable params: 0\n",
      "_________________________________________________________________\n"
     ]
    }
   ],
   "source": [
    "###Build the model\n",
    "model = Sequential()\n",
    "model.add(Dense(512, activation='relu', input_shape=(784,)))#  Relu , sigmoid, softmax,Tanh, Linear, or Step.\n",
    "model.add(Dropout(0.18))# avoid overfitting, usually, 0.1,0.2,0.3\n",
    "model.add(Dense(512, activation='relu'))#  Relu , sigmoid, softmax,Tanh, Linear, or Step.\n",
    "model.add(Dropout(0.18))\n",
    "model.add(Dense(num_classes, activation='softmax'))#  Relu , sigmoid, softmax,Tanh, Linear, or Step.\n",
    "\n",
    "model.summary()"
   ]
  },
  {
   "cell_type": "code",
   "execution_count": 4,
   "metadata": {},
   "outputs": [
    {
     "name": "stdout",
     "output_type": "stream",
     "text": [
      "Train on 60000 samples, validate on 10000 samples\n",
      "Epoch 1/8\n",
      "60000/60000 [==============================] - 17s 283us/step - loss: 0.2165 - acc: 0.9360 - val_loss: 0.1132 - val_acc: 0.9695\n",
      "Epoch 2/8\n",
      "60000/60000 [==============================] - 16s 268us/step - loss: 0.1265 - acc: 0.9674 - val_loss: 0.1086 - val_acc: 0.9725\n",
      "Epoch 3/8\n",
      "60000/60000 [==============================] - 15s 256us/step - loss: 0.1159 - acc: 0.9739 - val_loss: 0.1101 - val_acc: 0.9773\n",
      "Epoch 4/8\n",
      "60000/60000 [==============================] - 16s 267us/step - loss: 0.1125 - acc: 0.9759 - val_loss: 0.1307 - val_acc: 0.9736\n",
      "Epoch 5/8\n",
      "60000/60000 [==============================] - 16s 259us/step - loss: 0.1026 - acc: 0.9785 - val_loss: 0.1194 - val_acc: 0.9786\n",
      "Epoch 6/8\n",
      "60000/60000 [==============================] - 15s 253us/step - loss: 0.1030 - acc: 0.9798 - val_loss: 0.1330 - val_acc: 0.9787\n",
      "Epoch 7/8\n",
      "60000/60000 [==============================] - 15s 248us/step - loss: 0.1006 - acc: 0.9814 - val_loss: 0.1611 - val_acc: 0.9758\n",
      "Epoch 8/8\n",
      "60000/60000 [==============================] - 15s 246us/step - loss: 0.1002 - acc: 0.9828 - val_loss: 0.1659 - val_acc: 0.9764\n",
      "Test loss: 0.1659326881008606\n",
      "Test accuracy: 0.9764\n"
     ]
    }
   ],
   "source": [
    "model.compile(loss='categorical_crossentropy',  #Loss function，\n",
    "              optimizer=RMSprop(),\t#optimization function\n",
    "              metrics=['accuracy']) # precision, or recall\n",
    "\n",
    "history = model.fit(x_train, y_train,\n",
    "                    batch_size=batch_size,\n",
    "                    epochs=epochs,\n",
    "                    verbose=1,# 1:show you an animated progress, 0 silent, 2 mention the number of epoch, like epoch 1/10 \n",
    "                    validation_data=(x_test, y_test))\n",
    "###Test\n",
    "score = model.evaluate(x_test, y_test, verbose=0)\n",
    "print('Test loss:', score[0])\n",
    "print('Test accuracy:', score[1])"
   ]
  },
  {
   "cell_type": "code",
   "execution_count": null,
   "metadata": {},
   "outputs": [],
   "source": []
  }
 ],
 "metadata": {
  "kernelspec": {
   "display_name": "Python 3",
   "language": "python",
   "name": "python3"
  },
  "language_info": {
   "codemirror_mode": {
    "name": "ipython",
    "version": 3
   },
   "file_extension": ".py",
   "mimetype": "text/x-python",
   "name": "python",
   "nbconvert_exporter": "python",
   "pygments_lexer": "ipython3",
   "version": "3.5.2"
  }
 },
 "nbformat": 4,
 "nbformat_minor": 2
}

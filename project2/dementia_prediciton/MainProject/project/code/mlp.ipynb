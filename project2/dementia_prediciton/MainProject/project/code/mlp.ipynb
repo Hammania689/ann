{
 "cells": [
  {
   "cell_type": "code",
   "execution_count": null,
   "metadata": {},
   "outputs": [],
   "source": [
    "from sklearn.neural_network import MLPClassifier\n",
    "from sklearn.model_selection import StratifiedKFold\n",
    "from sklearn.model_selection import GridSearchCV\n",
    "from sklearn.metrics import make_scorer\n",
    "from sklearn.metrics import f1_score, confusion_matrix, roc_curve, auc, \\\n",
    "            classification_report, recall_score, precision_recall_curve\n",
    "\n",
    "random_state = 2018\n",
    "\n",
    "\n",
    "def get_best_model(X_train,y_train,lrc,random_state):\n",
    "\n",
    "    cv = StratifiedKFold(n_splits =5, shuffle=True, random_state = random_state)\n",
    "\n",
    "    #训练神经网络模型\n",
    "    mlp = MLPClassifier(random_state = random_state) \n",
    "    scoring = {'Recall': make_scorer(recall_score),\n",
    "               'f1_score': make_scorer(f1_score)\n",
    "              }\n",
    "\n",
    "    params = { 'hidden_layer_sizes':[10,50,100,200,500],\n",
    "              'activation':['identity', 'logistic', 'tanh', 'relu'],\n",
    "              'solver':['lbfgs', 'sgd', 'adam'],\n",
    "              'learning_rate':['constant', 'invscaling', 'adaptive']\n",
    "              \n",
    "                 }\n",
    "\n",
    "    grid_clf = GridSearchCV(estimator = mlp, param_grid = params, cv = cv, n_jobs=-1, verbose=4)\n",
    "    grid_clf.fit(X_train, y_train)\n",
    "    return grid_clf   \n",
    "grid_clf = get_best_model(X_train,y_train,lrc,random_state)\n",
    "best_mlp = grid_clf.best_estimator_\n",
    "print(grid_clf.best_estimator_)\n",
    "print(grid_clf.best_params_)"
   ]
  },
  {
   "cell_type": "code",
   "execution_count": null,
   "metadata": {},
   "outputs": [],
   "source": [
    "from sklearn.metrics import accuracy_score\n",
    "from sklearn.metrics import f1_score, confusion_matrix, roc_curve, auc, \\\n",
    "            classification_report, recall_score, precision_recall_curve\n",
    "\n",
    "def get_mlp_score_cross(clf):\n",
    "    target_name = ['Normal','MCI','VMD','dementia']\n",
    "    predicted = cross_val_predict(clf, X_train, y_train, cv=5)\n",
    "    #LogisticRegression模型交叉验证评估结果 加权重结果类别不平衡问题\n",
    "    print('MLP model准确度分数:',accuracy_score(y_train, predicted)) #准确度分类得分\n",
    "    print('MLP model混淆矩阵\\n',confusion_matrix(y_train,predicted)) #混淆矩阵\n",
    "    print(\"MLP model召回率\",recall_score(y_train,predicted,average='micro'))#宏查全率\n",
    "    print(\"MLP model分类报告\\n\",classification_report(y_train,predicted,target_names = target_name))#分类报告\n",
    "\n",
    "    \n",
    "    \n",
    "def get_mlp_score_test(clf):\n",
    "    target_name = ['Normal','MCI','VMD','dementia']\n",
    "    y_pred_score = clf.fit(X_train,y_train).predict(X_test)\n",
    "    #LogisticRegression模型 测试集 评估结果 加权重结果类别不平衡问题\n",
    "    print('MLP model准确度分数:',accuracy_score(y_test, y_pred_score)) #准确度分类得分\n",
    "    print('MLP model混淆矩阵\\n',confusion_matrix(y_test,y_pred_score)) #混淆矩阵\n",
    "    print(\"MLP model召回率\",recall_score(y_test,y_pred_score,average='micro'))#宏查全率\n",
    "    print(\"MLP model分类报告\\n\",classification_report(y_test,y_pred_score,target_names = target_name))#分类报告\n",
    "\n",
    "\n",
    "print('对训练集使用交叉验证得到的评估结果')\n",
    "get_mlp_score_cross(best_mlp)\n",
    "print('使用测试集得到的评估结果')\n",
    "get_mlp_score_test(best_mlp)"
   ]
  }
 ],
 "metadata": {
  "kernelspec": {
   "display_name": "Python 3",
   "language": "python",
   "name": "python3"
  },
  "language_info": {
   "codemirror_mode": {
    "name": "ipython",
    "version": 3
   },
   "file_extension": ".py",
   "mimetype": "text/x-python",
   "name": "python",
   "nbconvert_exporter": "python",
   "pygments_lexer": "ipython3",
   "version": "3.6.4"
  }
 },
 "nbformat": 4,
 "nbformat_minor": 2
}

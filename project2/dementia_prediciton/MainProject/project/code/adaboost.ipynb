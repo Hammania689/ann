{
 "cells": [
  {
   "cell_type": "code",
   "execution_count": 32,
   "metadata": {},
   "outputs": [
    {
     "name": "stdout",
     "output_type": "stream",
     "text": [
      "dementia    2465\n",
      "MCI         1234\n",
      "VMD          718\n",
      "Normal       328\n",
      "Name: Group, dtype: int64\n"
     ]
    },
    {
     "data": {
      "image/png": "[encoded data removed]",
      "text/plain": [
       "<matplotlib.figure.Figure at 0xc3b7c88>"
      ]
     },
     "metadata": {},
     "output_type": "display_data"
    },
    {
     "name": "stdout",
     "output_type": "stream",
     "text": [
      "dementia    265\n",
      "MCI         113\n",
      "VMD          98\n",
      "Normal       51\n",
      "Name: Group, dtype: int64\n"
     ]
    },
    {
     "data": {
      "image/png": "[encoded data removed]",
      "text/plain": [
       "<matplotlib.figure.Figure at 0xbf092b0>"
      ]
     },
     "metadata": {},
     "output_type": "display_data"
    }
   ],
   "source": [
    "import pandas as pd\n",
    "import numpy as np\n",
    "import matplotlib.pyplot as plt\n",
    "import matplotlib\n",
    "\n",
    "#读入文件\n",
    "path1='data\\\\train_relief.csv'\n",
    "path2='data\\\\test_relief.csv'\n",
    "path3='data\\\\train_infor.csv'\n",
    "path4='data\\\\test_infor.csv'\n",
    "path5='data\\\\train_rf.csv'\n",
    "path6='data\\\\test_rf.csv'\n",
    "\n",
    "data_train=pd.read_csv(path3)\n",
    "#data_train=data_train.fillna(data_train.mean())\n",
    "data_test=pd.read_csv(path4)\n",
    "#data_test=data_test.fillna(data_test.mean())\n",
    "\n",
    "#查看类别分布情况\n",
    "plt.rcParams['font.sans-serif']=['SimHei'] #用来正常显示中文标签\n",
    "plt.rcParams['axes.unicode_minus']=False   #用来正常显示负号\n",
    "\n",
    "print(data_train['Group'].value_counts())\n",
    "data_train.Group.value_counts().plot(kind='bar')\n",
    "plt.title(u'训练集')\n",
    "plt.ylabel(u'人数')\n",
    "plt.show()\n",
    "\n",
    "print(data_test['Group'].value_counts())\n",
    "data_train.Group.value_counts().plot(kind='bar')\n",
    "plt.title(u'测试集')\n",
    "plt.ylabel(u'人数')\n",
    "plt.show()"
   ]
  },
  {
   "cell_type": "code",
   "execution_count": 33,
   "metadata": {},
   "outputs": [],
   "source": [
    "X1 = data_train.drop(\"Group\", axis=1) #获取训练集特征  \n",
    "y1 = data_train[\"Group\"]  #获取训练集标签列 \n",
    "X2 = data_test.drop(\"Group\", axis=1) #获取测试集特征  \n",
    "y2 = data_test[\"Group\"]  #获取测试集标签列"
   ]
  },
  {
   "cell_type": "code",
   "execution_count": 34,
   "metadata": {},
   "outputs": [
    {
     "name": "stdout",
     "output_type": "stream",
     "text": [
      "Fitting 5 folds for each of 48 candidates, totalling 240 fits\n"
     ]
    },
    {
     "name": "stderr",
     "output_type": "stream",
     "text": [
      "[Parallel(n_jobs=-1)]: Done   9 tasks      | elapsed:    4.5s\n",
      "[Parallel(n_jobs=-1)]: Done  82 tasks      | elapsed:   10.5s\n",
      "[Parallel(n_jobs=-1)]: Done 205 tasks      | elapsed:   26.1s\n",
      "[Parallel(n_jobs=-1)]: Done 240 out of 240 | elapsed:   33.1s finished\n"
     ]
    },
    {
     "name": "stdout",
     "output_type": "stream",
     "text": [
      "LogisticRegression(C=10, class_weight=None, dual=False, fit_intercept=True,\n",
      "          intercept_scaling=1, max_iter=100, multi_class='ovr', n_jobs=1,\n",
      "          penalty='l2', random_state=2018, solver='liblinear', tol=0.0001,\n",
      "          verbose=0, warm_start=False)\n",
      "{'C': 10, 'class_weight': None, 'multi_class': 'ovr', 'penalty': 'l2', 'solver': 'liblinear'}\n"
     ]
    }
   ],
   "source": [
    "#模型训练\n",
    "from sklearn.linear_model import LogisticRegression\n",
    "from sklearn.model_selection import StratifiedKFold\n",
    "from sklearn.model_selection import GridSearchCV\n",
    "from sklearn.metrics import make_scorer\n",
    "from sklearn.metrics import f1_score, confusion_matrix, roc_curve, auc, \\\n",
    "            classification_report, recall_score, precision_recall_curve\n",
    "\n",
    "random_state = 2018\n",
    "\n",
    "def get_best_model(X1,y1,random_state):\n",
    "\n",
    "    cv = StratifiedKFold(n_splits =5, shuffle=True, random_state = random_state)\n",
    "\n",
    "    #训练模型\n",
    "    lrc = LogisticRegression(random_state = random_state) \n",
    "    scoring = {'Recall': make_scorer(recall_score),\n",
    "               'f1_score': make_scorer(f1_score)\n",
    "              }\n",
    "\n",
    "    params = {'class_weight':['balanced',None],\n",
    "                    'penalty':['l2'], \n",
    "                    'solver' : ['newton-cg', 'lbfgs', 'liblinear', 'sag'],\n",
    "                    'multi_class' : ['ovr'],\n",
    "                    'C':[0.0001,0.001,0.01,0.1,1,10]\n",
    "                 }\n",
    "\n",
    "    grid_clf = GridSearchCV(estimator = lrc, param_grid = params, cv = cv, n_jobs=-1, verbose=4)\n",
    "    grid_clf.fit(X1, y1)\n",
    "    return grid_clf   \n",
    "grid_clf = get_best_model(X1,y1,random_state)\n",
    "print(grid_clf.best_estimator_)\n",
    "print(grid_clf.best_params_)"
   ]
  },
  {
   "cell_type": "code",
   "execution_count": 35,
   "metadata": {},
   "outputs": [
    {
     "name": "stdout",
     "output_type": "stream",
     "text": [
      "Fitting 5 folds for each of 10 candidates, totalling 50 fits\n"
     ]
    },
    {
     "name": "stderr",
     "output_type": "stream",
     "text": [
      "[Parallel(n_jobs=-1)]: Done   9 tasks      | elapsed:    5.0s\n",
      "[Parallel(n_jobs=-1)]: Done  48 out of  50 | elapsed:   44.3s remaining:    1.7s\n",
      "[Parallel(n_jobs=-1)]: Done  50 out of  50 | elapsed:   44.3s finished\n"
     ]
    },
    {
     "name": "stdout",
     "output_type": "stream",
     "text": [
      "AdaBoostClassifier(algorithm='SAMME',\n",
      "          base_estimator=LogisticRegression(C=10, class_weight='balanced', dual=False,\n",
      "          fit_intercept=True, intercept_scaling=1, max_iter=100,\n",
      "          multi_class='ovr', n_jobs=1, penalty='l2', random_state=2018,\n",
      "          solver='liblinear', tol=0.0001, verbose=0, warm_start=False),\n",
      "          learning_rate=1.0, n_estimators=10, random_state=2018)\n",
      "{'algorithm': 'SAMME', 'n_estimators': 10}\n"
     ]
    }
   ],
   "source": [
    "from sklearn.ensemble import AdaBoostClassifier\n",
    "from sklearn.model_selection import StratifiedKFold\n",
    "from sklearn.model_selection import GridSearchCV\n",
    "from sklearn.metrics import make_scorer\n",
    "from sklearn.metrics import f1_score, confusion_matrix, roc_curve, auc, \\\n",
    "            classification_report, recall_score, precision_recall_curve\n",
    "\n",
    "random_state = 2018\n",
    "\n",
    "lrc = LogisticRegression(C=10, class_weight='balanced', dual=False,\n",
    "          fit_intercept=True, intercept_scaling=1, max_iter=100,\n",
    "          multi_class='ovr', n_jobs=1, penalty='l2', random_state=2018,\n",
    "          solver='liblinear', tol=0.0001, verbose=0, warm_start=False)\n",
    "\n",
    "def get_best_model(X1,y1,lrc,random_state):\n",
    "\n",
    "    cv = StratifiedKFold(n_splits =5, shuffle=True, random_state = random_state)\n",
    "\n",
    "    #训练Adaboost模型\n",
    "    lrc = AdaBoostClassifier(base_estimator = lrc,random_state = random_state) \n",
    "    scoring = {'Recall': make_scorer(recall_score),\n",
    "               'f1_score': make_scorer(f1_score)\n",
    "              }\n",
    "\n",
    "    params = { 'n_estimators':[10,30,50,70,100],\n",
    "              'algorithm':['SAMME', 'SAMME.R']\n",
    "                 }\n",
    "\n",
    "    grid_clf = GridSearchCV(estimator = lrc, param_grid = params, cv = cv, n_jobs=-1, verbose=4)\n",
    "    grid_clf.fit(X1, y1)\n",
    "    return grid_clf   \n",
    "grid_clf = get_best_model(X1,y1,lrc,random_state)\n",
    "best_clf = grid_clf.best_estimator_\n",
    "print(grid_clf.best_estimator_)\n",
    "print(grid_clf.best_params_)"
   ]
  },
  {
   "cell_type": "code",
   "execution_count": 36,
   "metadata": {},
   "outputs": [],
   "source": [
    "best_clf = AdaBoostClassifier(algorithm='SAMME',\n",
    "          base_estimator=LogisticRegression(C=10, class_weight='balanced', dual=False,\n",
    "          fit_intercept=True, intercept_scaling=1, max_iter=100,\n",
    "          multi_class='ovr', n_jobs=1, penalty='l2', random_state=2018,\n",
    "          solver='liblinear', tol=0.0001, verbose=0, warm_start=False),\n",
    "          learning_rate=1.0, n_estimators=10, random_state=2018)"
   ]
  },
  {
   "cell_type": "code",
   "execution_count": 37,
   "metadata": {},
   "outputs": [
    {
     "name": "stdout",
     "output_type": "stream",
     "text": [
      "交叉验证得到的评估结果\n",
      "Logistic model准确度分数: 0.7943097997892519\n",
      "Logistic model混淆矩阵\n",
      " [[1116    5  109    4]\n",
      " [ 327    1    0    0]\n",
      " [ 159    1  417  141]\n",
      " [  25    1  204 2235]]\n",
      "Logistic model召回率 0.7943097997892519\n",
      "Logistic model分类报告\n",
      "              precision    recall  f1-score   support\n",
      "\n",
      "     Normal       0.69      0.90      0.78      1234\n",
      "        MCI       0.12      0.00      0.01       328\n",
      "        VMD       0.57      0.58      0.58       718\n",
      "   dementia       0.94      0.91      0.92      2465\n",
      "\n",
      "avg / total       0.76      0.79      0.77      4745\n",
      "\n",
      "使用测试集得到的评估结果\n",
      "Logistic model准确度分数: 0.7893738140417458\n",
      "Logistic model混淆矩阵\n",
      " [[104   0   8   1]\n",
      " [ 51   0   0   0]\n",
      " [ 17   0  59  22]\n",
      " [  2   0  10 253]]\n",
      "Logistic model召回率 0.7893738140417458\n",
      "Logistic model分类报告\n",
      "              precision    recall  f1-score   support\n",
      "\n",
      "     Normal       0.60      0.92      0.72       113\n",
      "        MCI       0.00      0.00      0.00        51\n",
      "        VMD       0.77      0.60      0.67        98\n",
      "   dementia       0.92      0.95      0.94       265\n",
      "\n",
      "avg / total       0.73      0.79      0.75       527\n",
      "\n"
     ]
    },
    {
     "name": "stderr",
     "output_type": "stream",
     "text": [
      "D:\\anaconda\\lib\\site-packages\\sklearn\\metrics\\classification.py:1135: UndefinedMetricWarning: Precision and F-score are ill-defined and being set to 0.0 in labels with no predicted samples.\n",
      "  'precision', 'predicted', average, warn_for)\n"
     ]
    }
   ],
   "source": [
    "##得到的最优模型评估训练集\n",
    "from sklearn import metrics\n",
    "from sklearn.model_selection import cross_val_predict\n",
    "from sklearn.metrics import f1_score, confusion_matrix, roc_curve, auc, \\\n",
    "            classification_report, recall_score, precision_recall_curve,accuracy_score\n",
    "\n",
    "best_lrc = lrc\n",
    "def get_lr_score_cross(clf):\n",
    "    target_name = ['Normal','MCI','VMD','dementia']\n",
    "    predicted = cross_val_predict(clf, X1, y1, cv=5)\n",
    "    #LogisticRegression模型交叉验证评估结果 加权重结果类别不平衡问题\n",
    "    print('Logistic model准确度分数:',accuracy_score(y1, predicted)) #准确度分类得分\n",
    "    print('Logistic model混淆矩阵\\n',confusion_matrix(y1,predicted)) #混淆矩阵\n",
    "    print(\"Logistic model召回率\",recall_score(y1,predicted,average='micro'))#宏查全率\n",
    "    print(\"Logistic model分类报告\\n\",classification_report(y1,predicted,target_names = target_name))#分类报告\n",
    "\n",
    "    \n",
    "    \n",
    "def get_lr_score_test(clf):\n",
    "    target_name = ['Normal','MCI','VMD','dementia']\n",
    "    y_pred_score = clf.fit(X1,y1).predict(X2)\n",
    "    #LogisticRegression模型 测试集 评估结果 加权重结果类别不平衡问题\n",
    "    print('Logistic model准确度分数:',accuracy_score(y2, y_pred_score)) #准确度分类得分\n",
    "    print('Logistic model混淆矩阵\\n',confusion_matrix(y2,y_pred_score)) #混淆矩阵\n",
    "    print(\"Logistic model召回率\",recall_score(y2,y_pred_score,average='micro'))#宏查全率\n",
    "    print(\"Logistic model分类报告\\n\",classification_report(y2,y_pred_score,target_names = target_name))#分类报告\n",
    "\n",
    "\n",
    "print(\"交叉验证得到的评估结果\")\n",
    "get_lr_score_cross(best_lrc)\n",
    "print('使用测试集得到的评估结果')\n",
    "get_lr_score_test(best_lrc)"
   ]
  },
  {
   "cell_type": "code",
   "execution_count": 38,
   "metadata": {},
   "outputs": [
    {
     "name": "stdout",
     "output_type": "stream",
     "text": [
      "对训练集使用交叉验证得到的评估结果\n",
      "AdaBoost model准确度分数: 0.7943097997892519\n",
      "AdaBoost model混淆矩阵\n",
      " [[1116    5  109    4]\n",
      " [ 327    1    0    0]\n",
      " [ 159    1  417  141]\n",
      " [  25    1  204 2235]]\n",
      "AdaBoost model召回率 0.7943097997892519\n",
      "AdaBoost model分类报告\n",
      "              precision    recall  f1-score   support\n",
      "\n",
      "     Normal       0.69      0.90      0.78      1234\n",
      "        MCI       0.12      0.00      0.01       328\n",
      "        VMD       0.57      0.58      0.58       718\n",
      "   dementia       0.94      0.91      0.92      2465\n",
      "\n",
      "avg / total       0.76      0.79      0.77      4745\n",
      "\n",
      "使用测试集得到的评估结果\n",
      "AdaBoost model准确度分数: 0.7741935483870968\n",
      "AdaBoost model混淆矩阵\n",
      " [[ 61  35  17   0]\n",
      " [  8  43   0   0]\n",
      " [ 13   0  54  31]\n",
      " [  0   0  15 250]]\n",
      "AdaBoost model召回率 0.7741935483870968\n",
      "AdaBoost model分类报告\n",
      "              precision    recall  f1-score   support\n",
      "\n",
      "     Normal       0.74      0.54      0.63       113\n",
      "        MCI       0.55      0.84      0.67        51\n",
      "        VMD       0.63      0.55      0.59        98\n",
      "   dementia       0.89      0.94      0.92       265\n",
      "\n",
      "avg / total       0.78      0.77      0.77       527\n",
      "\n"
     ]
    }
   ],
   "source": [
    "from sklearn.metrics import accuracy_score\n",
    "from sklearn.metrics import f1_score, confusion_matrix, roc_curve, auc, \\\n",
    "            classification_report, recall_score, precision_recall_curve\n",
    "\n",
    "\n",
    "best_boostclf = best_clf    \n",
    "def get_lrboost_score_cross(clf):\n",
    "    target_name = ['Normal','MCI','VMD','dementia']\n",
    "    predicted = cross_val_predict(best_lrc, X1, y1, cv=5)\n",
    "    #LogisticRegression模型交叉验证评估结果 加权重结果类别不平衡问题\n",
    "    print('AdaBoost model准确度分数:',accuracy_score(y1, predicted)) #准确度分类得分\n",
    "    print('AdaBoost model混淆矩阵\\n',confusion_matrix(y1,predicted)) #混淆矩阵\n",
    "    print(\"AdaBoost model召回率\",recall_score(y1,predicted,average='micro'))#宏查全率\n",
    "    print(\"AdaBoost model分类报告\\n\",classification_report(y1,predicted,target_names = target_name))#分类报告\n",
    "\n",
    "    \n",
    "    \n",
    "def get_lrboost_score_test(clf):\n",
    "    target_name = ['Normal','MCI','VMD','dementia']\n",
    "    y_pred_score = clf.fit(X1,y1).predict(X2)\n",
    "    #LogisticRegression模型 测试集 评估结果 加权重结果类别不平衡问题\n",
    "    print('AdaBoost model准确度分数:',accuracy_score(y2, y_pred_score)) #准确度分类得分\n",
    "    print('AdaBoost model混淆矩阵\\n',confusion_matrix(y2,y_pred_score)) #混淆矩阵\n",
    "    print(\"AdaBoost model召回率\",recall_score(y2,y_pred_score,average='micro'))#宏查全率\n",
    "    print(\"AdaBoost model分类报告\\n\",classification_report(y2,y_pred_score,target_names = target_name))#分类报告\n",
    "\n",
    "\n",
    "print('对训练集使用交叉验证得到的评估结果')\n",
    "get_lrboost_score_cross(best_boostclf)\n",
    "print('使用测试集得到的评估结果')\n",
    "get_lrboost_score_test(best_boostclf)"
   ]
  },
  {
   "cell_type": "code",
   "execution_count": 39,
   "metadata": {},
   "outputs": [
    {
     "data": {
      "text/plain": [
       "\u001b[1;31mInit signature:\u001b[0m \u001b[0mAdaBoostClassifier\u001b[0m\u001b[1;33m(\u001b[0m\u001b[0mbase_estimator\u001b[0m\u001b[1;33m=\u001b[0m\u001b[1;32mNone\u001b[0m\u001b[1;33m,\u001b[0m \u001b[0mn_estimators\u001b[0m\u001b[1;33m=\u001b[0m\u001b[1;36m50\u001b[0m\u001b[1;33m,\u001b[0m \u001b[0mlearning_rate\u001b[0m\u001b[1;33m=\u001b[0m\u001b[1;36m1.0\u001b[0m\u001b[1;33m,\u001b[0m \u001b[0malgorithm\u001b[0m\u001b[1;33m=\u001b[0m\u001b[1;34m'SAMME.R'\u001b[0m\u001b[1;33m,\u001b[0m \u001b[0mrandom_state\u001b[0m\u001b[1;33m=\u001b[0m\u001b[1;32mNone\u001b[0m\u001b[1;33m)\u001b[0m\u001b[1;33m\u001b[0m\u001b[0m\n",
       "\u001b[1;31mDocstring:\u001b[0m     \n",
       "An AdaBoost classifier.\n",
       "\n",
       "An AdaBoost [1] classifier is a meta-estimator that begins by fitting a\n",
       "classifier on the original dataset and then fits additional copies of the\n",
       "classifier on the same dataset but where the weights of incorrectly\n",
       "classified instances are adjusted such that subsequent classifiers focus\n",
       "more on difficult cases.\n",
       "\n",
       "This class implements the algorithm known as AdaBoost-SAMME [2].\n",
       "\n",
       "Read more in the :ref:`User Guide <adaboost>`.\n",
       "\n",
       "Parameters\n",
       "----------\n",
       "base_estimator : object, optional (default=DecisionTreeClassifier)\n",
       "    The base estimator from which the boosted ensemble is built.\n",
       "    Support for sample weighting is required, as well as proper `classes_`\n",
       "    and `n_classes_` attributes.\n",
       "\n",
       "n_estimators : integer, optional (default=50)\n",
       "    The maximum number of estimators at which boosting is terminated.\n",
       "    In case of perfect fit, the learning procedure is stopped early.\n",
       "\n",
       "learning_rate : float, optional (default=1.)\n",
       "    Learning rate shrinks the contribution of each classifier by\n",
       "    ``learning_rate``. There is a trade-off between ``learning_rate`` and\n",
       "    ``n_estimators``.\n",
       "\n",
       "algorithm : {'SAMME', 'SAMME.R'}, optional (default='SAMME.R')\n",
       "    If 'SAMME.R' then use the SAMME.R real boosting algorithm.\n",
       "    ``base_estimator`` must support calculation of class probabilities.\n",
       "    If 'SAMME' then use the SAMME discrete boosting algorithm.\n",
       "    The SAMME.R algorithm typically converges faster than SAMME,\n",
       "    achieving a lower test error with fewer boosting iterations.\n",
       "\n",
       "random_state : int, RandomState instance or None, optional (default=None)\n",
       "    If int, random_state is the seed used by the random number generator;\n",
       "    If RandomState instance, random_state is the random number generator;\n",
       "    If None, the random number generator is the RandomState instance used\n",
       "    by `np.random`.\n",
       "\n",
       "Attributes\n",
       "----------\n",
       "estimators_ : list of classifiers\n",
       "    The collection of fitted sub-estimators.\n",
       "\n",
       "classes_ : array of shape = [n_classes]\n",
       "    The classes labels.\n",
       "\n",
       "n_classes_ : int\n",
       "    The number of classes.\n",
       "\n",
       "estimator_weights_ : array of floats\n",
       "    Weights for each estimator in the boosted ensemble.\n",
       "\n",
       "estimator_errors_ : array of floats\n",
       "    Classification error for each estimator in the boosted\n",
       "    ensemble.\n",
       "\n",
       "feature_importances_ : array of shape = [n_features]\n",
       "    The feature importances if supported by the ``base_estimator``.\n",
       "\n",
       "See also\n",
       "--------\n",
       "AdaBoostRegressor, GradientBoostingClassifier, DecisionTreeClassifier\n",
       "\n",
       "References\n",
       "----------\n",
       ".. [1] Y. Freund, R. Schapire, \"A Decision-Theoretic Generalization of\n",
       "       on-Line Learning and an Application to Boosting\", 1995.\n",
       "\n",
       ".. [2] J. Zhu, H. Zou, S. Rosset, T. Hastie, \"Multi-class AdaBoost\", 2009.\n",
       "\u001b[1;31mFile:\u001b[0m           d:\\anaconda\\lib\\site-packages\\sklearn\\ensemble\\weight_boosting.py\n",
       "\u001b[1;31mType:\u001b[0m           ABCMeta\n"
      ]
     },
     "metadata": {},
     "output_type": "display_data"
    }
   ],
   "source": [
    "AdaBoostClassifier?"
   ]
  },
  {
   "cell_type": "code",
   "execution_count": null,
   "metadata": {},
   "outputs": [],
   "source": []
  }
 ],
 "metadata": {
  "kernelspec": {
   "display_name": "Python 3",
   "language": "python",
   "name": "python3"
  },
  "language_info": {
   "codemirror_mode": {
    "name": "ipython",
    "version": 3
   },
   "file_extension": ".py",
   "mimetype": "text/x-python",
   "name": "python",
   "nbconvert_exporter": "python",
   "pygments_lexer": "ipython3",
   "version": "3.6.4"
  }
 },
 "nbformat": 4,
 "nbformat_minor": 2
}

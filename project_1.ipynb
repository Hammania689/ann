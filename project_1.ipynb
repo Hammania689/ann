{
 "cells": [
  {
   "cell_type": "code",
   "execution_count": 95,
   "metadata": {},
   "outputs": [],
   "source": [
    "import pandas as pd\n",
    "import numpy as np\n",
    "from pathlib import Path"
   ]
  },
  {
   "cell_type": "code",
   "execution_count": 197,
   "metadata": {},
   "outputs": [],
   "source": [
    "def generate_site_files(path_to_master_csv: str, printOutput=False):\n",
    "    \"\"\"\n",
    "    This function generates separate csv files for each station found in the master_csv. \n",
    "    \n",
    "    path_to_master_csv: (string) that contains path to the 2017-2.csv file \n",
    "    \n",
    "    return: new csv file for each unique station found in the master_csv.\n",
    "        Filename is 2017-(StationID).csv\n",
    "    \"\"\"\n",
    "    \n",
    "    try:\n",
    "        # Use Path class for compatibility with both Unix and Windows platforms\n",
    "        # Ensure file path exists\n",
    "        path_to_master_csv = Path(path_to_master_csv)\n",
    "        if Path.exists(path_to_master_csv) == False: \n",
    "            raise ValueError\n",
    "    \n",
    "         # Open and read the file into a pandas csv\n",
    "        master_file = pd.read_csv(path_to_master_csv)\n",
    "        print(f\"Reading {path_to_master_csv} ... \")\n",
    "\n",
    "        # Grab unique stations \n",
    "        unique_stations = master_file.StationID.unique()\n",
    "\n",
    "        for i in np.nditer(unique_stations):\n",
    "\n",
    "            # Create a csv for the current station\n",
    "            # Write all entries for current station in one file\n",
    "            curr_file = open(Path(f\"2017-{i}.csv\"), 'w')\n",
    "            curr_series = master_file[master_file.StationID == i]\n",
    "            curr_series.to_csv(curr_file)\n",
    "\n",
    "            # Inform user of progress\n",
    "            print(f\"Entries for StationID: {i}\")\n",
    "            print(\"=\" * 30)\n",
    "            print(f\"Contains {len(curr_series)} entries\")\n",
    "\n",
    "            if printOutput:\n",
    "                print(master_file[master_file.StationID == i])\n",
    "                print(\"\\n\\n\\n\")    \n",
    "            print(\"\\n\")\n",
    "\n",
    "            curr_file.close()\n",
    "\n",
    "        print(\"Successfully Separated all Stations into individual CSVs\")\n",
    "        \n",
    "    # If bad input catch and prompt user with appriopiate error\n",
    "    except TypeError:\n",
    "        print(\"Path_to_master_csv in must be a string...\")\n",
    "        return\n",
    "    \n",
    "    except ValueError:\n",
    "        print(f\"{path_to_master_csv} is not a valid path...\")\n",
    "        return\n",
    "    \n",
    "    except Exception:\n",
    "        print(\"Something unexpected happened... Something might be on fire!!\")\n",
    "        return "
   ]
  },
  {
   "cell_type": "code",
   "execution_count": 196,
   "metadata": {},
   "outputs": [
    {
     "name": "stdout",
     "output_type": "stream",
     "text": [
      "Path_to_master_csv in must be a string...\n"
     ]
    }
   ],
   "source": [
    "generate_site_files(\"2017-2.csv\")"
   ]
  },
  {
   "cell_type": "code",
   "execution_count": 341,
   "metadata": {},
   "outputs": [
    {
     "data": {
      "text/plain": [
       "'Jan'"
      ]
     },
     "execution_count": 341,
     "metadata": {},
     "output_type": "execute_result"
    }
   ],
   "source": [
    "test = pd.read_csv(\"2017-330.csv\")\n",
    "test.local_eastern_time[0][3:6] # give value I looking for\n",
    "\n"
   ]
  },
  {
   "cell_type": "code",
   "execution_count": 264,
   "metadata": {},
   "outputs": [],
   "source": [
    "nnn = test.local_eastern_time.unique()\n",
    "# for n in np.nditer(nnn, \"refs_ok\"):\n",
    "#     unique = nnn.loc[(n)][3:6]\n",
    "#     unique"
   ]
  }
 ],
 "metadata": {
  "kernelspec": {
   "display_name": "Python 3",
   "language": "python",
   "name": "python3"
  },
  "language_info": {
   "codemirror_mode": {
    "name": "ipython",
    "version": 3
   },
   "file_extension": ".py",
   "mimetype": "text/x-python",
   "name": "python",
   "nbconvert_exporter": "python",
   "pygments_lexer": "ipython3",
   "version": "3.6.6"
  }
 },
 "nbformat": 4,
 "nbformat_minor": 2
}
